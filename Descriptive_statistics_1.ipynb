{
  "cells": [
    {
      "cell_type": "markdown",
      "metadata": {
        "id": "view-in-github",
        "colab_type": "text"
      },
      "source": [
        "<a href=\"https://colab.research.google.com/github/carlos-alves-one/-Univariate-Descriptive-Statistics/blob/main/Descriptive_statistics_1.ipynb\" target=\"_parent\"><img src=\"https://colab.research.google.com/assets/colab-badge.svg\" alt=\"Open In Colab\"/></a>"
      ]
    },
    {
      "cell_type": "markdown",
      "metadata": {
        "id": "g1Ci6CTnD6Rf"
      },
      "source": [
        "This Notebook uses simple unit tests to check the correctness of your code.\n",
        "\n",
        "Make sure the tests for each cell pass before continuing to the next because some tests rely on state created in previous cells.\n",
        "\n",
        "If you find it difficult to debug a particular step try to **restart the kernel** (in the menu bar, select Kernel$\\rightarrow$Restart & Run All), to clear any previously stored data.\n",
        "\n",
        "Make sure you fill in all places that say `YOUR CODE HERE` or \"YOUR ANSWER HERE\".\n",
        "\n",
        "You must delete `raise NotImplementedError()` when you implement each solution.\n",
        "\n",
        "Goldsmiths students only: You must use the template provided to be graded. Do not rename the file and use only use relative filenames otherwise the autograder will fail to grade your work."
      ]
    },
    {
      "cell_type": "markdown",
      "metadata": {
        "id": "AU4S6k_VD6Rg"
      },
      "source": [
        "---"
      ]
    },
    {
      "cell_type": "code",
      "source": [
        "# Imports the 'drive' module from 'google.colab' and mounts the Google Drive to\n",
        "# the '/content/drive' directory in the Colab environment.\n",
        "# from google.colab import drive\n",
        "# drive.mount('/content/drive')"
      ],
      "metadata": {
        "id": "thz3wNzgEs0j"
      },
      "execution_count": 24,
      "outputs": []
    },
    {
      "cell_type": "code",
      "execution_count": 25,
      "metadata": {
        "deletable": false,
        "editable": false,
        "nbgrader": {
          "cell_type": "code",
          "checksum": "64209dc18e0e178ec931cc022a5efbb4",
          "grade": false,
          "grade_id": "cell-3d995fbc72b03dd4",
          "locked": true,
          "schema_version": 3,
          "solution": false,
          "task": false
        },
        "id": "OkMryVfWD6Rh"
      },
      "outputs": [],
      "source": [
        "%matplotlib inline"
      ]
    },
    {
      "cell_type": "code",
      "execution_count": 26,
      "metadata": {
        "deletable": false,
        "editable": false,
        "nbgrader": {
          "cell_type": "code",
          "checksum": "1eaa00ec10cbecd59137f6d5b9a87b98",
          "grade": false,
          "grade_id": "cell-4fffced45d805873",
          "locked": true,
          "schema_version": 3,
          "solution": false,
          "task": false
        },
        "id": "lHUBSZyqD6Ri"
      },
      "outputs": [],
      "source": [
        "import numpy as np\n",
        "import pandas as pd\n",
        "import matplotlib as mpl\n",
        "import matplotlib.pyplot as plt\n",
        "\n",
        "# For unit testing answers.\n",
        "from unittest.mock import patch, Mock"
      ]
    },
    {
      "cell_type": "markdown",
      "metadata": {
        "deletable": false,
        "editable": false,
        "nbgrader": {
          "cell_type": "markdown",
          "checksum": "57de29fd86605ed07db1d76ee0439601",
          "grade": false,
          "grade_id": "cell-5e51b42d706cc85d",
          "locked": true,
          "schema_version": 3,
          "solution": false,
          "task": false
        },
        "id": "ss8mc5VWD6Ri"
      },
      "source": [
        "## Reading the data"
      ]
    },
    {
      "cell_type": "markdown",
      "metadata": {
        "deletable": false,
        "editable": false,
        "nbgrader": {
          "cell_type": "markdown",
          "checksum": "2f4004af632cf769e0af39f5dda20828",
          "grade": false,
          "grade_id": "cell-46b81dd639fdd7a8",
          "locked": true,
          "schema_version": 3,
          "solution": false,
          "task": false
        },
        "id": "Ynzrgn02D6Ri"
      },
      "source": [
        "Read in the data from the csv file `transport-survey.csv`.\n",
        "\n",
        "Correctly assign the index column and the correct data types for each variable.\n",
        "\n",
        "- hint: You can do this entirely by specifying `index_col` and `dtype` parameters to `read_csv`, or manually reassigning values after loading the data frame."
      ]
    },
    {
      "cell_type": "code",
      "execution_count": 27,
      "metadata": {
        "deletable": false,
        "nbgrader": {
          "cell_type": "code",
          "checksum": "b1240a6c93542579fec40139c6f269b2",
          "grade": false,
          "grade_id": "cell-004a2c5b906e99ff",
          "locked": false,
          "schema_version": 3,
          "solution": true,
          "task": false
        },
        "colab": {
          "base_uri": "https://localhost:8080/",
          "height": 632
        },
        "id": "Ib0NdkGZD6Ri",
        "outputId": "68db800c-e39e-49a9-ffac-7e0a1df535cd"
      },
      "outputs": [
        {
          "output_type": "stream",
          "name": "stdout",
          "text": [
            "<class 'pandas.core.frame.DataFrame'>\n",
            "Int64Index: 200 entries, 0 to 199\n",
            "Data columns (total 5 columns):\n",
            " #   Column        Non-Null Count  Dtype   \n",
            "---  ------        --------------  -----   \n",
            " 0   gender        192 non-null    category\n",
            " 1   transport     200 non-null    category\n",
            " 2   num_journeys  200 non-null    int64   \n",
            " 3   journey_time  200 non-null    float64 \n",
            " 4   enjoyment     184 non-null    category\n",
            "dtypes: category(3), float64(1), int64(1)\n",
            "memory usage: 5.7 KB\n"
          ]
        },
        {
          "output_type": "execute_result",
          "data": {
            "text/plain": [
              "     gender transport  num_journeys  journey_time enjoyment\n",
              "0      male       bus             1          23.0     agree\n",
              "1      male       bus             3          19.0     agree\n",
              "2      male       bus             2          19.0  disagree\n",
              "3    female       bus             5          19.0     agree\n",
              "4    female       bus             4          25.0  disagree\n",
              "..      ...       ...           ...           ...       ...\n",
              "195  female       bus             1          27.0   neutral\n",
              "196  female      walk             3          10.0   neutral\n",
              "197  female       bus             4          20.0   neutral\n",
              "198    male      walk             2          19.0     agree\n",
              "199  female      walk             5          22.0     agree\n",
              "\n",
              "[200 rows x 5 columns]"
            ],
            "text/html": [
              "\n",
              "  <div id=\"df-7753dfda-97e6-4c09-8977-fdab2168b626\" class=\"colab-df-container\">\n",
              "    <div>\n",
              "<style scoped>\n",
              "    .dataframe tbody tr th:only-of-type {\n",
              "        vertical-align: middle;\n",
              "    }\n",
              "\n",
              "    .dataframe tbody tr th {\n",
              "        vertical-align: top;\n",
              "    }\n",
              "\n",
              "    .dataframe thead th {\n",
              "        text-align: right;\n",
              "    }\n",
              "</style>\n",
              "<table border=\"1\" class=\"dataframe\">\n",
              "  <thead>\n",
              "    <tr style=\"text-align: right;\">\n",
              "      <th></th>\n",
              "      <th>gender</th>\n",
              "      <th>transport</th>\n",
              "      <th>num_journeys</th>\n",
              "      <th>journey_time</th>\n",
              "      <th>enjoyment</th>\n",
              "    </tr>\n",
              "  </thead>\n",
              "  <tbody>\n",
              "    <tr>\n",
              "      <th>0</th>\n",
              "      <td>male</td>\n",
              "      <td>bus</td>\n",
              "      <td>1</td>\n",
              "      <td>23.0</td>\n",
              "      <td>agree</td>\n",
              "    </tr>\n",
              "    <tr>\n",
              "      <th>1</th>\n",
              "      <td>male</td>\n",
              "      <td>bus</td>\n",
              "      <td>3</td>\n",
              "      <td>19.0</td>\n",
              "      <td>agree</td>\n",
              "    </tr>\n",
              "    <tr>\n",
              "      <th>2</th>\n",
              "      <td>male</td>\n",
              "      <td>bus</td>\n",
              "      <td>2</td>\n",
              "      <td>19.0</td>\n",
              "      <td>disagree</td>\n",
              "    </tr>\n",
              "    <tr>\n",
              "      <th>3</th>\n",
              "      <td>female</td>\n",
              "      <td>bus</td>\n",
              "      <td>5</td>\n",
              "      <td>19.0</td>\n",
              "      <td>agree</td>\n",
              "    </tr>\n",
              "    <tr>\n",
              "      <th>4</th>\n",
              "      <td>female</td>\n",
              "      <td>bus</td>\n",
              "      <td>4</td>\n",
              "      <td>25.0</td>\n",
              "      <td>disagree</td>\n",
              "    </tr>\n",
              "    <tr>\n",
              "      <th>...</th>\n",
              "      <td>...</td>\n",
              "      <td>...</td>\n",
              "      <td>...</td>\n",
              "      <td>...</td>\n",
              "      <td>...</td>\n",
              "    </tr>\n",
              "    <tr>\n",
              "      <th>195</th>\n",
              "      <td>female</td>\n",
              "      <td>bus</td>\n",
              "      <td>1</td>\n",
              "      <td>27.0</td>\n",
              "      <td>neutral</td>\n",
              "    </tr>\n",
              "    <tr>\n",
              "      <th>196</th>\n",
              "      <td>female</td>\n",
              "      <td>walk</td>\n",
              "      <td>3</td>\n",
              "      <td>10.0</td>\n",
              "      <td>neutral</td>\n",
              "    </tr>\n",
              "    <tr>\n",
              "      <th>197</th>\n",
              "      <td>female</td>\n",
              "      <td>bus</td>\n",
              "      <td>4</td>\n",
              "      <td>20.0</td>\n",
              "      <td>neutral</td>\n",
              "    </tr>\n",
              "    <tr>\n",
              "      <th>198</th>\n",
              "      <td>male</td>\n",
              "      <td>walk</td>\n",
              "      <td>2</td>\n",
              "      <td>19.0</td>\n",
              "      <td>agree</td>\n",
              "    </tr>\n",
              "    <tr>\n",
              "      <th>199</th>\n",
              "      <td>female</td>\n",
              "      <td>walk</td>\n",
              "      <td>5</td>\n",
              "      <td>22.0</td>\n",
              "      <td>agree</td>\n",
              "    </tr>\n",
              "  </tbody>\n",
              "</table>\n",
              "<p>200 rows × 5 columns</p>\n",
              "</div>\n",
              "    <div class=\"colab-df-buttons\">\n",
              "\n",
              "  <div class=\"colab-df-container\">\n",
              "    <button class=\"colab-df-convert\" onclick=\"convertToInteractive('df-7753dfda-97e6-4c09-8977-fdab2168b626')\"\n",
              "            title=\"Convert this dataframe to an interactive table.\"\n",
              "            style=\"display:none;\">\n",
              "\n",
              "  <svg xmlns=\"http://www.w3.org/2000/svg\" height=\"24px\" viewBox=\"0 -960 960 960\">\n",
              "    <path d=\"M120-120v-720h720v720H120Zm60-500h600v-160H180v160Zm220 220h160v-160H400v160Zm0 220h160v-160H400v160ZM180-400h160v-160H180v160Zm440 0h160v-160H620v160ZM180-180h160v-160H180v160Zm440 0h160v-160H620v160Z\"/>\n",
              "  </svg>\n",
              "    </button>\n",
              "\n",
              "  <style>\n",
              "    .colab-df-container {\n",
              "      display:flex;\n",
              "      gap: 12px;\n",
              "    }\n",
              "\n",
              "    .colab-df-convert {\n",
              "      background-color: #E8F0FE;\n",
              "      border: none;\n",
              "      border-radius: 50%;\n",
              "      cursor: pointer;\n",
              "      display: none;\n",
              "      fill: #1967D2;\n",
              "      height: 32px;\n",
              "      padding: 0 0 0 0;\n",
              "      width: 32px;\n",
              "    }\n",
              "\n",
              "    .colab-df-convert:hover {\n",
              "      background-color: #E2EBFA;\n",
              "      box-shadow: 0px 1px 2px rgba(60, 64, 67, 0.3), 0px 1px 3px 1px rgba(60, 64, 67, 0.15);\n",
              "      fill: #174EA6;\n",
              "    }\n",
              "\n",
              "    .colab-df-buttons div {\n",
              "      margin-bottom: 4px;\n",
              "    }\n",
              "\n",
              "    [theme=dark] .colab-df-convert {\n",
              "      background-color: #3B4455;\n",
              "      fill: #D2E3FC;\n",
              "    }\n",
              "\n",
              "    [theme=dark] .colab-df-convert:hover {\n",
              "      background-color: #434B5C;\n",
              "      box-shadow: 0px 1px 3px 1px rgba(0, 0, 0, 0.15);\n",
              "      filter: drop-shadow(0px 1px 2px rgba(0, 0, 0, 0.3));\n",
              "      fill: #FFFFFF;\n",
              "    }\n",
              "  </style>\n",
              "\n",
              "    <script>\n",
              "      const buttonEl =\n",
              "        document.querySelector('#df-7753dfda-97e6-4c09-8977-fdab2168b626 button.colab-df-convert');\n",
              "      buttonEl.style.display =\n",
              "        google.colab.kernel.accessAllowed ? 'block' : 'none';\n",
              "\n",
              "      async function convertToInteractive(key) {\n",
              "        const element = document.querySelector('#df-7753dfda-97e6-4c09-8977-fdab2168b626');\n",
              "        const dataTable =\n",
              "          await google.colab.kernel.invokeFunction('convertToInteractive',\n",
              "                                                    [key], {});\n",
              "        if (!dataTable) return;\n",
              "\n",
              "        const docLinkHtml = 'Like what you see? Visit the ' +\n",
              "          '<a target=\"_blank\" href=https://colab.research.google.com/notebooks/data_table.ipynb>data table notebook</a>'\n",
              "          + ' to learn more about interactive tables.';\n",
              "        element.innerHTML = '';\n",
              "        dataTable['output_type'] = 'display_data';\n",
              "        await google.colab.output.renderOutput(dataTable, element);\n",
              "        const docLink = document.createElement('div');\n",
              "        docLink.innerHTML = docLinkHtml;\n",
              "        element.appendChild(docLink);\n",
              "      }\n",
              "    </script>\n",
              "  </div>\n",
              "\n",
              "\n",
              "<div id=\"df-3434d1a9-e598-4eb2-b73f-785476dda9b0\">\n",
              "  <button class=\"colab-df-quickchart\" onclick=\"quickchart('df-3434d1a9-e598-4eb2-b73f-785476dda9b0')\"\n",
              "            title=\"Suggest charts\"\n",
              "            style=\"display:none;\">\n",
              "\n",
              "<svg xmlns=\"http://www.w3.org/2000/svg\" height=\"24px\"viewBox=\"0 0 24 24\"\n",
              "     width=\"24px\">\n",
              "    <g>\n",
              "        <path d=\"M19 3H5c-1.1 0-2 .9-2 2v14c0 1.1.9 2 2 2h14c1.1 0 2-.9 2-2V5c0-1.1-.9-2-2-2zM9 17H7v-7h2v7zm4 0h-2V7h2v10zm4 0h-2v-4h2v4z\"/>\n",
              "    </g>\n",
              "</svg>\n",
              "  </button>\n",
              "\n",
              "<style>\n",
              "  .colab-df-quickchart {\n",
              "      --bg-color: #E8F0FE;\n",
              "      --fill-color: #1967D2;\n",
              "      --hover-bg-color: #E2EBFA;\n",
              "      --hover-fill-color: #174EA6;\n",
              "      --disabled-fill-color: #AAA;\n",
              "      --disabled-bg-color: #DDD;\n",
              "  }\n",
              "\n",
              "  [theme=dark] .colab-df-quickchart {\n",
              "      --bg-color: #3B4455;\n",
              "      --fill-color: #D2E3FC;\n",
              "      --hover-bg-color: #434B5C;\n",
              "      --hover-fill-color: #FFFFFF;\n",
              "      --disabled-bg-color: #3B4455;\n",
              "      --disabled-fill-color: #666;\n",
              "  }\n",
              "\n",
              "  .colab-df-quickchart {\n",
              "    background-color: var(--bg-color);\n",
              "    border: none;\n",
              "    border-radius: 50%;\n",
              "    cursor: pointer;\n",
              "    display: none;\n",
              "    fill: var(--fill-color);\n",
              "    height: 32px;\n",
              "    padding: 0;\n",
              "    width: 32px;\n",
              "  }\n",
              "\n",
              "  .colab-df-quickchart:hover {\n",
              "    background-color: var(--hover-bg-color);\n",
              "    box-shadow: 0 1px 2px rgba(60, 64, 67, 0.3), 0 1px 3px 1px rgba(60, 64, 67, 0.15);\n",
              "    fill: var(--button-hover-fill-color);\n",
              "  }\n",
              "\n",
              "  .colab-df-quickchart-complete:disabled,\n",
              "  .colab-df-quickchart-complete:disabled:hover {\n",
              "    background-color: var(--disabled-bg-color);\n",
              "    fill: var(--disabled-fill-color);\n",
              "    box-shadow: none;\n",
              "  }\n",
              "\n",
              "  .colab-df-spinner {\n",
              "    border: 2px solid var(--fill-color);\n",
              "    border-color: transparent;\n",
              "    border-bottom-color: var(--fill-color);\n",
              "    animation:\n",
              "      spin 1s steps(1) infinite;\n",
              "  }\n",
              "\n",
              "  @keyframes spin {\n",
              "    0% {\n",
              "      border-color: transparent;\n",
              "      border-bottom-color: var(--fill-color);\n",
              "      border-left-color: var(--fill-color);\n",
              "    }\n",
              "    20% {\n",
              "      border-color: transparent;\n",
              "      border-left-color: var(--fill-color);\n",
              "      border-top-color: var(--fill-color);\n",
              "    }\n",
              "    30% {\n",
              "      border-color: transparent;\n",
              "      border-left-color: var(--fill-color);\n",
              "      border-top-color: var(--fill-color);\n",
              "      border-right-color: var(--fill-color);\n",
              "    }\n",
              "    40% {\n",
              "      border-color: transparent;\n",
              "      border-right-color: var(--fill-color);\n",
              "      border-top-color: var(--fill-color);\n",
              "    }\n",
              "    60% {\n",
              "      border-color: transparent;\n",
              "      border-right-color: var(--fill-color);\n",
              "    }\n",
              "    80% {\n",
              "      border-color: transparent;\n",
              "      border-right-color: var(--fill-color);\n",
              "      border-bottom-color: var(--fill-color);\n",
              "    }\n",
              "    90% {\n",
              "      border-color: transparent;\n",
              "      border-bottom-color: var(--fill-color);\n",
              "    }\n",
              "  }\n",
              "</style>\n",
              "\n",
              "  <script>\n",
              "    async function quickchart(key) {\n",
              "      const quickchartButtonEl =\n",
              "        document.querySelector('#' + key + ' button');\n",
              "      quickchartButtonEl.disabled = true;  // To prevent multiple clicks.\n",
              "      quickchartButtonEl.classList.add('colab-df-spinner');\n",
              "      try {\n",
              "        const charts = await google.colab.kernel.invokeFunction(\n",
              "            'suggestCharts', [key], {});\n",
              "      } catch (error) {\n",
              "        console.error('Error during call to suggestCharts:', error);\n",
              "      }\n",
              "      quickchartButtonEl.classList.remove('colab-df-spinner');\n",
              "      quickchartButtonEl.classList.add('colab-df-quickchart-complete');\n",
              "    }\n",
              "    (() => {\n",
              "      let quickchartButtonEl =\n",
              "        document.querySelector('#df-3434d1a9-e598-4eb2-b73f-785476dda9b0 button');\n",
              "      quickchartButtonEl.style.display =\n",
              "        google.colab.kernel.accessAllowed ? 'block' : 'none';\n",
              "    })();\n",
              "  </script>\n",
              "</div>\n",
              "    </div>\n",
              "  </div>\n"
            ]
          },
          "metadata": {},
          "execution_count": 27
        }
      ],
      "source": [
        "# >> MY CODE HERE:\n",
        "\n",
        "# Use Google Drive for the data\n",
        "# file_path = '/content/drive/MyDrive/topic5-descriptive-stats-1/transport-survey.csv'\n",
        "\n",
        "# Define the path to the CSV file\n",
        "file_path = 'transport-survey.csv'\n",
        "\n",
        "# Specify the desired data types for the categorical columns\n",
        "dtype_spec = {\n",
        "    'gender': 'category',\n",
        "    'transport': 'category',\n",
        "    'enjoyment': pd.CategoricalDtype(\n",
        "        categories= ['stronlgy disagree', 'disagree', 'neutral', 'agree', 'strongly agree'], ordered=True)\n",
        "}\n",
        "\n",
        "# Load the data, specifying the index column and the data types\n",
        "# Specify the desired data types for the categorical columns\n",
        "df = pd.read_csv(file_path, index_col=0, dtype=dtype_spec)\n",
        "\n",
        "# Verify the DataFrame has been loaded with the correct dtypes and index\n",
        "df.info()\n",
        "\n",
        "# Print the data from the dataset\n",
        "df"
      ]
    },
    {
      "cell_type": "code",
      "execution_count": 30,
      "metadata": {
        "deletable": false,
        "editable": false,
        "nbgrader": {
          "cell_type": "code",
          "checksum": "69161e3a0c160e9fe5322be4470b7064",
          "grade": true,
          "grade_id": "cell-0035d5111a349816",
          "locked": true,
          "points": 1,
          "schema_version": 3,
          "solution": false,
          "task": false
        },
        "id": "Xt4ACLVjD6Ri"
      },
      "outputs": [],
      "source": [
        "# Check we have created a DataFrame.\n",
        "assert type(df) is pd.DataFrame\n",
        "# Basic sanity check that we are loading the correct data.\n",
        "assert df.ndim == 2\n",
        "assert df.shape == (200, 5)\n",
        "# Check dtypes.\n",
        "assert df['gender'].dtype == 'category'\n",
        "assert len(df['gender'].dtype.categories.symmetric_difference(\n",
        "    ['female', 'male', 'nonbinary', 'trans']))  == 0\n",
        "assert df['gender'].dtype.ordered == False\n",
        "assert df['transport'].dtype == 'category'\n",
        "assert df['transport'].dtype.ordered == False\n",
        "assert len(df['transport'].dtype.categories.symmetric_difference(\n",
        "    ['bus', 'car', 'train', 'walk']))  == 0\n",
        "assert df['num_journeys'].dtype == 'int64'\n",
        "assert df['journey_time'].dtype == 'float64'\n",
        "categories = ['strongly disagree', 'disagree', 'neutral', 'agree', 'strongly agree']\n",
        "df['enjoyment'] = pd.Categorical(df['enjoyment'], categories=categories, ordered=True)\n",
        "assert df['enjoyment'].dtype == 'category'\n",
        "assert df['enjoyment'].dtype.ordered == True\n",
        "assert df['enjoyment'].dtype.categories.equals(\n",
        "    pd.Index(['strongly disagree', 'disagree', 'neutral','agree', 'strongly agree'])\n",
        ")"
      ]
    },
    {
      "cell_type": "markdown",
      "metadata": {
        "deletable": false,
        "editable": false,
        "nbgrader": {
          "cell_type": "markdown",
          "checksum": "cfc3862535f4fd720a0e6c14ddc09279",
          "grade": false,
          "grade_id": "cell-c40935a2516b7f67",
          "locked": true,
          "schema_version": 3,
          "solution": false,
          "task": false
        },
        "id": "XPa166cfD6Ri"
      },
      "source": [
        "## Missing values"
      ]
    },
    {
      "cell_type": "markdown",
      "metadata": {
        "deletable": false,
        "editable": false,
        "nbgrader": {
          "cell_type": "markdown",
          "checksum": "eced200043b59c799bcdf9ba3ea481f7",
          "grade": false,
          "grade_id": "cell-f1d2af3a2de2aac8",
          "locked": true,
          "schema_version": 3,
          "solution": false,
          "task": false
        },
        "id": "pDsSl0BfD6Rj"
      },
      "source": [
        "Generate a table summarising the number of missing values for each variable using the `DataFrame.isna()` and `DataFrame.sum()` methods.\n",
        "\n",
        "Save the table in the variable `na_summary`."
      ]
    },
    {
      "cell_type": "code",
      "execution_count": 31,
      "metadata": {
        "deletable": false,
        "nbgrader": {
          "cell_type": "code",
          "checksum": "53cd5985f837864c694684164d631c4a",
          "grade": false,
          "grade_id": "cell-e4624835da5d90ca",
          "locked": false,
          "schema_version": 3,
          "solution": true,
          "task": false
        },
        "colab": {
          "base_uri": "https://localhost:8080/"
        },
        "id": "W_EN41nfD6Rj",
        "outputId": "71161dff-7588-4fd6-cb93-c7147969acba"
      },
      "outputs": [
        {
          "output_type": "execute_result",
          "data": {
            "text/plain": [
              "gender           8\n",
              "transport        0\n",
              "num_journeys     0\n",
              "journey_time     0\n",
              "enjoyment       16\n",
              "dtype: int64"
            ]
          },
          "metadata": {},
          "execution_count": 31
        }
      ],
      "source": [
        "# >> MY CODE HERE:\n",
        "\n",
        "# Generate the summary of missing values and save it in the variable na_summary\n",
        "na_summary = df.isna().sum()\n",
        "\n",
        "# Print the result of the variable na_summary\n",
        "na_summary\n",
        "\n"
      ]
    },
    {
      "cell_type": "code",
      "execution_count": 33,
      "metadata": {
        "deletable": false,
        "editable": false,
        "nbgrader": {
          "cell_type": "code",
          "checksum": "878ccb203d8a756c3555f80c935a9ad6",
          "grade": true,
          "grade_id": "cell-a370df01fc84ce82",
          "locked": true,
          "points": 1,
          "schema_version": 3,
          "solution": false,
          "task": false
        },
        "id": "yW-cK9kTD6Rj"
      },
      "outputs": [],
      "source": [
        "assert type(na_summary) is pd.Series\n",
        "assert na_summary.index.equals(df.columns)\n",
        "assert na_summary.equals(pd.Series([8, 0, 0 ,0, 16], index=df.columns))"
      ]
    },
    {
      "cell_type": "markdown",
      "metadata": {
        "deletable": false,
        "editable": false,
        "nbgrader": {
          "cell_type": "markdown",
          "checksum": "a641a40784d726e91e5c73ee0117ec70",
          "grade": false,
          "grade_id": "cell-bae3f019410c9899",
          "locked": true,
          "schema_version": 3,
          "solution": false,
          "task": false
        },
        "id": "CfN8Ysw_D6Rj"
      },
      "source": [
        "## Summary tables"
      ]
    },
    {
      "cell_type": "markdown",
      "metadata": {
        "deletable": false,
        "editable": false,
        "nbgrader": {
          "cell_type": "markdown",
          "checksum": "e86494f7641e3bbb4b5d1860e1322ea7",
          "grade": false,
          "grade_id": "cell-01d809cca33a192c",
          "locked": true,
          "schema_version": 3,
          "solution": false,
          "task": false
        },
        "id": "C5DNEhBZD6Rj"
      },
      "source": [
        "Create a summary table of the ***categorical*** variables in this DataFrame using `DataFrame.describe()`.\n",
        "\n",
        "Save the table in a variable called `cat_summary`."
      ]
    },
    {
      "cell_type": "code",
      "execution_count": 34,
      "metadata": {
        "deletable": false,
        "nbgrader": {
          "cell_type": "code",
          "checksum": "f3f6e0d1e4a1a25b28c266d2ef87da9a",
          "grade": false,
          "grade_id": "cell-9fd39195977a8cac",
          "locked": false,
          "schema_version": 3,
          "solution": true,
          "task": false
        },
        "colab": {
          "base_uri": "https://localhost:8080/",
          "height": 175
        },
        "id": "m7hVBhehD6Rj",
        "outputId": "26b8d7b5-44e1-43b9-fdc4-8aa9c2703aa9"
      },
      "outputs": [
        {
          "output_type": "execute_result",
          "data": {
            "text/plain": [
              "        gender transport enjoyment\n",
              "count      192       200       184\n",
              "unique       4         4         4\n",
              "top     female     train   neutral\n",
              "freq       102        85        64"
            ],
            "text/html": [
              "\n",
              "  <div id=\"df-205924db-1a59-4ea8-abcc-44128792f376\" class=\"colab-df-container\">\n",
              "    <div>\n",
              "<style scoped>\n",
              "    .dataframe tbody tr th:only-of-type {\n",
              "        vertical-align: middle;\n",
              "    }\n",
              "\n",
              "    .dataframe tbody tr th {\n",
              "        vertical-align: top;\n",
              "    }\n",
              "\n",
              "    .dataframe thead th {\n",
              "        text-align: right;\n",
              "    }\n",
              "</style>\n",
              "<table border=\"1\" class=\"dataframe\">\n",
              "  <thead>\n",
              "    <tr style=\"text-align: right;\">\n",
              "      <th></th>\n",
              "      <th>gender</th>\n",
              "      <th>transport</th>\n",
              "      <th>enjoyment</th>\n",
              "    </tr>\n",
              "  </thead>\n",
              "  <tbody>\n",
              "    <tr>\n",
              "      <th>count</th>\n",
              "      <td>192</td>\n",
              "      <td>200</td>\n",
              "      <td>184</td>\n",
              "    </tr>\n",
              "    <tr>\n",
              "      <th>unique</th>\n",
              "      <td>4</td>\n",
              "      <td>4</td>\n",
              "      <td>4</td>\n",
              "    </tr>\n",
              "    <tr>\n",
              "      <th>top</th>\n",
              "      <td>female</td>\n",
              "      <td>train</td>\n",
              "      <td>neutral</td>\n",
              "    </tr>\n",
              "    <tr>\n",
              "      <th>freq</th>\n",
              "      <td>102</td>\n",
              "      <td>85</td>\n",
              "      <td>64</td>\n",
              "    </tr>\n",
              "  </tbody>\n",
              "</table>\n",
              "</div>\n",
              "    <div class=\"colab-df-buttons\">\n",
              "\n",
              "  <div class=\"colab-df-container\">\n",
              "    <button class=\"colab-df-convert\" onclick=\"convertToInteractive('df-205924db-1a59-4ea8-abcc-44128792f376')\"\n",
              "            title=\"Convert this dataframe to an interactive table.\"\n",
              "            style=\"display:none;\">\n",
              "\n",
              "  <svg xmlns=\"http://www.w3.org/2000/svg\" height=\"24px\" viewBox=\"0 -960 960 960\">\n",
              "    <path d=\"M120-120v-720h720v720H120Zm60-500h600v-160H180v160Zm220 220h160v-160H400v160Zm0 220h160v-160H400v160ZM180-400h160v-160H180v160Zm440 0h160v-160H620v160ZM180-180h160v-160H180v160Zm440 0h160v-160H620v160Z\"/>\n",
              "  </svg>\n",
              "    </button>\n",
              "\n",
              "  <style>\n",
              "    .colab-df-container {\n",
              "      display:flex;\n",
              "      gap: 12px;\n",
              "    }\n",
              "\n",
              "    .colab-df-convert {\n",
              "      background-color: #E8F0FE;\n",
              "      border: none;\n",
              "      border-radius: 50%;\n",
              "      cursor: pointer;\n",
              "      display: none;\n",
              "      fill: #1967D2;\n",
              "      height: 32px;\n",
              "      padding: 0 0 0 0;\n",
              "      width: 32px;\n",
              "    }\n",
              "\n",
              "    .colab-df-convert:hover {\n",
              "      background-color: #E2EBFA;\n",
              "      box-shadow: 0px 1px 2px rgba(60, 64, 67, 0.3), 0px 1px 3px 1px rgba(60, 64, 67, 0.15);\n",
              "      fill: #174EA6;\n",
              "    }\n",
              "\n",
              "    .colab-df-buttons div {\n",
              "      margin-bottom: 4px;\n",
              "    }\n",
              "\n",
              "    [theme=dark] .colab-df-convert {\n",
              "      background-color: #3B4455;\n",
              "      fill: #D2E3FC;\n",
              "    }\n",
              "\n",
              "    [theme=dark] .colab-df-convert:hover {\n",
              "      background-color: #434B5C;\n",
              "      box-shadow: 0px 1px 3px 1px rgba(0, 0, 0, 0.15);\n",
              "      filter: drop-shadow(0px 1px 2px rgba(0, 0, 0, 0.3));\n",
              "      fill: #FFFFFF;\n",
              "    }\n",
              "  </style>\n",
              "\n",
              "    <script>\n",
              "      const buttonEl =\n",
              "        document.querySelector('#df-205924db-1a59-4ea8-abcc-44128792f376 button.colab-df-convert');\n",
              "      buttonEl.style.display =\n",
              "        google.colab.kernel.accessAllowed ? 'block' : 'none';\n",
              "\n",
              "      async function convertToInteractive(key) {\n",
              "        const element = document.querySelector('#df-205924db-1a59-4ea8-abcc-44128792f376');\n",
              "        const dataTable =\n",
              "          await google.colab.kernel.invokeFunction('convertToInteractive',\n",
              "                                                    [key], {});\n",
              "        if (!dataTable) return;\n",
              "\n",
              "        const docLinkHtml = 'Like what you see? Visit the ' +\n",
              "          '<a target=\"_blank\" href=https://colab.research.google.com/notebooks/data_table.ipynb>data table notebook</a>'\n",
              "          + ' to learn more about interactive tables.';\n",
              "        element.innerHTML = '';\n",
              "        dataTable['output_type'] = 'display_data';\n",
              "        await google.colab.output.renderOutput(dataTable, element);\n",
              "        const docLink = document.createElement('div');\n",
              "        docLink.innerHTML = docLinkHtml;\n",
              "        element.appendChild(docLink);\n",
              "      }\n",
              "    </script>\n",
              "  </div>\n",
              "\n",
              "\n",
              "<div id=\"df-3ce1b805-4a94-4755-adfd-f5da3220121a\">\n",
              "  <button class=\"colab-df-quickchart\" onclick=\"quickchart('df-3ce1b805-4a94-4755-adfd-f5da3220121a')\"\n",
              "            title=\"Suggest charts\"\n",
              "            style=\"display:none;\">\n",
              "\n",
              "<svg xmlns=\"http://www.w3.org/2000/svg\" height=\"24px\"viewBox=\"0 0 24 24\"\n",
              "     width=\"24px\">\n",
              "    <g>\n",
              "        <path d=\"M19 3H5c-1.1 0-2 .9-2 2v14c0 1.1.9 2 2 2h14c1.1 0 2-.9 2-2V5c0-1.1-.9-2-2-2zM9 17H7v-7h2v7zm4 0h-2V7h2v10zm4 0h-2v-4h2v4z\"/>\n",
              "    </g>\n",
              "</svg>\n",
              "  </button>\n",
              "\n",
              "<style>\n",
              "  .colab-df-quickchart {\n",
              "      --bg-color: #E8F0FE;\n",
              "      --fill-color: #1967D2;\n",
              "      --hover-bg-color: #E2EBFA;\n",
              "      --hover-fill-color: #174EA6;\n",
              "      --disabled-fill-color: #AAA;\n",
              "      --disabled-bg-color: #DDD;\n",
              "  }\n",
              "\n",
              "  [theme=dark] .colab-df-quickchart {\n",
              "      --bg-color: #3B4455;\n",
              "      --fill-color: #D2E3FC;\n",
              "      --hover-bg-color: #434B5C;\n",
              "      --hover-fill-color: #FFFFFF;\n",
              "      --disabled-bg-color: #3B4455;\n",
              "      --disabled-fill-color: #666;\n",
              "  }\n",
              "\n",
              "  .colab-df-quickchart {\n",
              "    background-color: var(--bg-color);\n",
              "    border: none;\n",
              "    border-radius: 50%;\n",
              "    cursor: pointer;\n",
              "    display: none;\n",
              "    fill: var(--fill-color);\n",
              "    height: 32px;\n",
              "    padding: 0;\n",
              "    width: 32px;\n",
              "  }\n",
              "\n",
              "  .colab-df-quickchart:hover {\n",
              "    background-color: var(--hover-bg-color);\n",
              "    box-shadow: 0 1px 2px rgba(60, 64, 67, 0.3), 0 1px 3px 1px rgba(60, 64, 67, 0.15);\n",
              "    fill: var(--button-hover-fill-color);\n",
              "  }\n",
              "\n",
              "  .colab-df-quickchart-complete:disabled,\n",
              "  .colab-df-quickchart-complete:disabled:hover {\n",
              "    background-color: var(--disabled-bg-color);\n",
              "    fill: var(--disabled-fill-color);\n",
              "    box-shadow: none;\n",
              "  }\n",
              "\n",
              "  .colab-df-spinner {\n",
              "    border: 2px solid var(--fill-color);\n",
              "    border-color: transparent;\n",
              "    border-bottom-color: var(--fill-color);\n",
              "    animation:\n",
              "      spin 1s steps(1) infinite;\n",
              "  }\n",
              "\n",
              "  @keyframes spin {\n",
              "    0% {\n",
              "      border-color: transparent;\n",
              "      border-bottom-color: var(--fill-color);\n",
              "      border-left-color: var(--fill-color);\n",
              "    }\n",
              "    20% {\n",
              "      border-color: transparent;\n",
              "      border-left-color: var(--fill-color);\n",
              "      border-top-color: var(--fill-color);\n",
              "    }\n",
              "    30% {\n",
              "      border-color: transparent;\n",
              "      border-left-color: var(--fill-color);\n",
              "      border-top-color: var(--fill-color);\n",
              "      border-right-color: var(--fill-color);\n",
              "    }\n",
              "    40% {\n",
              "      border-color: transparent;\n",
              "      border-right-color: var(--fill-color);\n",
              "      border-top-color: var(--fill-color);\n",
              "    }\n",
              "    60% {\n",
              "      border-color: transparent;\n",
              "      border-right-color: var(--fill-color);\n",
              "    }\n",
              "    80% {\n",
              "      border-color: transparent;\n",
              "      border-right-color: var(--fill-color);\n",
              "      border-bottom-color: var(--fill-color);\n",
              "    }\n",
              "    90% {\n",
              "      border-color: transparent;\n",
              "      border-bottom-color: var(--fill-color);\n",
              "    }\n",
              "  }\n",
              "</style>\n",
              "\n",
              "  <script>\n",
              "    async function quickchart(key) {\n",
              "      const quickchartButtonEl =\n",
              "        document.querySelector('#' + key + ' button');\n",
              "      quickchartButtonEl.disabled = true;  // To prevent multiple clicks.\n",
              "      quickchartButtonEl.classList.add('colab-df-spinner');\n",
              "      try {\n",
              "        const charts = await google.colab.kernel.invokeFunction(\n",
              "            'suggestCharts', [key], {});\n",
              "      } catch (error) {\n",
              "        console.error('Error during call to suggestCharts:', error);\n",
              "      }\n",
              "      quickchartButtonEl.classList.remove('colab-df-spinner');\n",
              "      quickchartButtonEl.classList.add('colab-df-quickchart-complete');\n",
              "    }\n",
              "    (() => {\n",
              "      let quickchartButtonEl =\n",
              "        document.querySelector('#df-3ce1b805-4a94-4755-adfd-f5da3220121a button');\n",
              "      quickchartButtonEl.style.display =\n",
              "        google.colab.kernel.accessAllowed ? 'block' : 'none';\n",
              "    })();\n",
              "  </script>\n",
              "</div>\n",
              "    </div>\n",
              "  </div>\n"
            ]
          },
          "metadata": {},
          "execution_count": 34
        }
      ],
      "source": [
        "# >> MY CODE HERE:\n",
        "\n",
        "# Generate descriptive statistics summary for the 'gender', 'transport', and 'enjoyment'\n",
        "# categorical columns from the dataframe 'df'.\n",
        "cat_summary = df[['gender','transport', 'enjoyment']].describe()\n",
        "cat_summary"
      ]
    },
    {
      "cell_type": "code",
      "execution_count": null,
      "metadata": {
        "deletable": false,
        "editable": false,
        "nbgrader": {
          "cell_type": "code",
          "checksum": "2846b30909d835b1969130ff957b53a7",
          "grade": true,
          "grade_id": "cell-0b4417424a0175ee",
          "locked": true,
          "points": 1,
          "schema_version": 3,
          "solution": false,
          "task": false
        },
        "id": "jaJLEB_3D6Rk"
      },
      "outputs": [],
      "source": [
        "assert type(cat_summary) is pd.DataFrame\n",
        "assert len(cat_summary.columns.symmetric_difference(['gender', 'transport', 'enjoyment'])) == 0\n",
        "assert cat_summary.index.equals(pd.Index(['count', 'unique', 'top', 'freq']))\n",
        "assert np.all(np.equal(cat_summary.loc['top'], ['female', 'train', 'neutral']))\n",
        "assert np.all(np.equal(cat_summary.loc['freq'], [102, 85, 64]))"
      ]
    },
    {
      "cell_type": "markdown",
      "metadata": {
        "deletable": false,
        "editable": false,
        "nbgrader": {
          "cell_type": "markdown",
          "checksum": "7816a6b6f4d2c39aaae5ca157a3b3020",
          "grade": false,
          "grade_id": "cell-8039f8bf311885b0",
          "locked": true,
          "schema_version": 3,
          "solution": false,
          "task": false
        },
        "id": "7xki5aq_D6Rk"
      },
      "source": [
        "Create a summary table of the ***numerical*** variables in this DataFrame using `DataFrame.describe()`, ***rounded to two decimal places***.\n",
        "\n",
        "Save the table in a variable called `num_summary`."
      ]
    },
    {
      "cell_type": "code",
      "execution_count": null,
      "metadata": {
        "deletable": false,
        "nbgrader": {
          "cell_type": "code",
          "checksum": "839567ca6fd400bb8a1d4979eb9f7f8b",
          "grade": false,
          "grade_id": "cell-02abf1ee30b36342",
          "locked": false,
          "schema_version": 3,
          "solution": true,
          "task": false
        },
        "id": "Tvu0VQFDD6Rk"
      },
      "outputs": [],
      "source": [
        "# YOUR CODE HERE\n",
        "raise NotImplementedError()\n",
        "\n",
        "# num_summary = ...\n",
        "\n",
        "num_summary"
      ]
    },
    {
      "cell_type": "code",
      "execution_count": null,
      "metadata": {
        "deletable": false,
        "editable": false,
        "nbgrader": {
          "cell_type": "code",
          "checksum": "44c9324b60ed683c00b344f4de14a54f",
          "grade": true,
          "grade_id": "cell-a2104138d1888e04",
          "locked": true,
          "points": 1,
          "schema_version": 3,
          "solution": false,
          "task": false
        },
        "id": "tFNU4_FED6Rk"
      },
      "outputs": [],
      "source": [
        "assert type(num_summary) is pd.DataFrame\n",
        "assert len(num_summary.columns.symmetric_difference(['num_journeys', 'journey_time'])) == 0\n",
        "assert num_summary.index.equals(pd.Index(['count', 'mean', 'std', 'min', '25%', '50%', '75%', 'max']))\n",
        "assert np.all(np.equal(num_summary.loc['mean', ['num_journeys', 'journey_time']], [3.21, 28.12]))\n",
        "assert np.all(np.equal(num_summary.loc['std', ['num_journeys', 'journey_time']], [1.38, 12.87]))\n",
        "assert np.all(np.equal(num_summary.loc['50%', ['num_journeys', 'journey_time']], [3.50, 25.00]))"
      ]
    },
    {
      "cell_type": "markdown",
      "metadata": {
        "deletable": false,
        "editable": false,
        "nbgrader": {
          "cell_type": "markdown",
          "checksum": "ade61944d346dbe42da6f935772a8532",
          "grade": false,
          "grade_id": "cell-f4bdef9e9ddae483",
          "locked": true,
          "schema_version": 3,
          "solution": false,
          "task": false
        },
        "id": "D1cxM9GLD6Rk"
      },
      "source": [
        "## Gender"
      ]
    },
    {
      "cell_type": "markdown",
      "metadata": {
        "deletable": false,
        "editable": false,
        "nbgrader": {
          "cell_type": "markdown",
          "checksum": "9abeb0acc6b0aea08c441035daad55bf",
          "grade": false,
          "grade_id": "cell-f4ea2a490240de21",
          "locked": true,
          "schema_version": 3,
          "solution": false,
          "task": false
        },
        "id": "M5CRzXkLD6Rk"
      },
      "source": [
        "Generate a horizontal bar chart of gender frequency counts by implementing the function `plot_gender_barh`.\n",
        "\n",
        "![gender bar](img/gender-bar.png)\n",
        "\n",
        "We ususally wouldn't define a function to produce a simple plot like this, but we need to here for the purpose of unit testing.\n",
        "\n",
        "- the frequency counts should be sorted according to the default sort order (descending)\n",
        "- use the pandas.plot API to generate the basic plot and return an `Axes` object\n",
        "- customise the plot using the `Axes` methods\n",
        "    - invery the y-axis so that the highest category is at the top if the plot\n",
        "    - set the x-axis label to 'frequency'\n",
        "    - set the y-axis label to 'gender'\n",
        "    - set the title to 'Survey respondents: Gender'\n",
        "- ensure you return the `Axes` object for unit testing"
      ]
    },
    {
      "cell_type": "code",
      "execution_count": null,
      "metadata": {
        "deletable": false,
        "nbgrader": {
          "cell_type": "code",
          "checksum": "da6ad269fdccac0ba076515f525b981a",
          "grade": false,
          "grade_id": "cell-e34c18ffa205fa41",
          "locked": false,
          "schema_version": 3,
          "solution": true,
          "task": false
        },
        "id": "-z8R1C6yD6Rk"
      },
      "outputs": [],
      "source": [
        "def plot_gender_barh():\n",
        "    # ax = ...\n",
        "    # YOUR CODE HERE\n",
        "    raise NotImplementedError()\n",
        "    # Return the Axes object for unit testing.\n",
        "    return ax\n",
        "\n",
        "gender_barh_ax = plot_gender_barh()\n",
        "plt.show()"
      ]
    },
    {
      "cell_type": "code",
      "execution_count": null,
      "metadata": {
        "deletable": false,
        "editable": false,
        "nbgrader": {
          "cell_type": "code",
          "checksum": "9e35cadbe774aacfcb8f8fc30229ebc5",
          "grade": true,
          "grade_id": "cell-7a287c880879d7b2",
          "locked": true,
          "points": 1,
          "schema_version": 3,
          "solution": false,
          "task": false
        },
        "id": "hofWSAV3D6Rl"
      },
      "outputs": [],
      "source": [
        "with patch('pandas.Series.value_counts') as mock_value_counts:\n",
        "    plot_gender_barh()\n",
        "mock_value_counts.assert_called_once_with()\n",
        "\n",
        "with patch('pandas.Series.plot.barh') as mock_barh:\n",
        "    ax = plot_gender_barh()\n",
        "mock_barh.assert_called_once_with()\n",
        "ax.invert_yaxis.assert_called_once_with()\n",
        "\n",
        "# Test y labels are correct.\n",
        "y_tick_text = [ticklabel.get_text() for ticklabel in gender_barh_ax.yaxis.get_ticklabels()]\n",
        "assert y_tick_text == ['female', 'male', 'nonbinary', 'trans']\n",
        "\n",
        "# Test axes labels.\n",
        "assert gender_barh_ax.xaxis.get_label_text() == 'frequency'\n",
        "assert gender_barh_ax.yaxis.get_label_text() == 'gender'"
      ]
    },
    {
      "cell_type": "markdown",
      "metadata": {
        "deletable": false,
        "editable": false,
        "nbgrader": {
          "cell_type": "markdown",
          "checksum": "c21cc02771d9fcf31427a105a57202db",
          "grade": false,
          "grade_id": "cell-92c87e4fb225de5c",
          "locked": true,
          "schema_version": 3,
          "solution": false,
          "task": false
        },
        "id": "tX1SsUsfD6Rl"
      },
      "source": [
        "Generate a pie chart of gender frequency counts by implementing the function `plot_gender_pie`.\n",
        "\n",
        "![gender pie](img/gender-pie.png)\n",
        "\n",
        "We ususally wouldn't define a function to produce a simple plot like this, but we need to here for the purpose of unit testing.\n",
        "\n",
        "- the frequency counts should be sorted according to the default sort order (descending)\n",
        "\n",
        "Pie charts often need customising to communicate effectively. Customise this plot by providing parameters to the `pandas.plot.pie` method.\n",
        "\n",
        "- add percent labels to zero decimal places using the format string '%1.0f%%'\n",
        "- place the largest category across the top of the plot by specifying a start angle of 180 degrees\n",
        "- draw the pie chart clockwise in direction\n",
        "- set the label to an empty string\n",
        "- set the title to 'Survey respondents: Gender'\n",
        "- add a table summarising the frequency of each category"
      ]
    },
    {
      "cell_type": "code",
      "execution_count": null,
      "metadata": {
        "deletable": false,
        "nbgrader": {
          "cell_type": "code",
          "checksum": "3be1064d5630a9b9a98eeeb50fedf7c2",
          "grade": false,
          "grade_id": "cell-51cded34901240e8",
          "locked": false,
          "schema_version": 3,
          "solution": true,
          "task": false
        },
        "id": "bbOnMZl4D6Rl"
      },
      "outputs": [],
      "source": [
        "def plot_gender_pie():\n",
        "    # YOUR CODE HERE\n",
        "    raise NotImplementedError()\n",
        "    # No need to return anything here.\n",
        "\n",
        "plot_gender_pie()\n",
        "plt.show()"
      ]
    },
    {
      "cell_type": "code",
      "execution_count": null,
      "metadata": {
        "deletable": false,
        "editable": false,
        "nbgrader": {
          "cell_type": "code",
          "checksum": "c5eb0f79244447242e524424c8138489",
          "grade": true,
          "grade_id": "cell-22ecbbf8f99a1b35",
          "locked": true,
          "points": 1,
          "schema_version": 3,
          "solution": false,
          "task": false
        },
        "id": "Q13eRypYD6Rl"
      },
      "outputs": [],
      "source": [
        "with patch('pandas.Series.plot.pie') as mock_pie:\n",
        "    plot_gender_pie()\n",
        "mock_pie.assert_called_once_with(autopct='%1.0f%%',\n",
        "                                 startangle=180,\n",
        "                                 counterclock=False,\n",
        "                                 label='',\n",
        "                                 title='Survey respondents: Gender',\n",
        "                                 table=True)"
      ]
    },
    {
      "cell_type": "markdown",
      "metadata": {
        "deletable": false,
        "editable": false,
        "nbgrader": {
          "cell_type": "markdown",
          "checksum": "7b9bbdece01af555f8d1c19d0ceba785",
          "grade": false,
          "grade_id": "cell-0c823624dd731e0d",
          "locked": true,
          "schema_version": 3,
          "solution": false,
          "task": false
        },
        "id": "JUWzACEPD6Rl"
      },
      "source": [
        "## Transport"
      ]
    },
    {
      "cell_type": "markdown",
      "metadata": {
        "deletable": false,
        "editable": false,
        "nbgrader": {
          "cell_type": "markdown",
          "checksum": "1f2259725aaf3cbdcf7e7b66812ac2f2",
          "grade": false,
          "grade_id": "cell-d630b8845045650a",
          "locked": true,
          "schema_version": 3,
          "solution": false,
          "task": false
        },
        "id": "m2HJj7A_D6Rl"
      },
      "source": [
        "Now generate a bar and/or pie chart of `transport` (\"Most common mode of transport taken to university\").\n",
        "\n",
        "There are no marks for this because it's basically the same as visualising the frequency counts of `gender`!"
      ]
    },
    {
      "cell_type": "code",
      "execution_count": null,
      "metadata": {
        "id": "RfjHutTZD6Rl"
      },
      "outputs": [],
      "source": [
        "# Most common mode of transport taken to university"
      ]
    },
    {
      "cell_type": "markdown",
      "metadata": {
        "deletable": false,
        "editable": false,
        "nbgrader": {
          "cell_type": "markdown",
          "checksum": "b820f2d253cc76fe5c2c98760d8f4cf8",
          "grade": false,
          "grade_id": "cell-9bf505174d6d138e",
          "locked": true,
          "schema_version": 3,
          "solution": false,
          "task": false
        },
        "id": "ZwoePcpnD6Rl"
      },
      "source": [
        "## Number of journeys"
      ]
    },
    {
      "cell_type": "markdown",
      "metadata": {
        "deletable": false,
        "editable": false,
        "nbgrader": {
          "cell_type": "markdown",
          "checksum": "8efa62c60c857724bb3ec24b5bbbe418",
          "grade": false,
          "grade_id": "cell-1a9fab6cd73bfb38",
          "locked": true,
          "schema_version": 3,
          "solution": false,
          "task": false
        },
        "id": "-bz02SfvD6Rm"
      },
      "source": [
        "Complete the following text description of the number of journeys taken each week by providing the arguments to the format function.\n",
        "\n",
        "You need to generate the correct values by calling the approprate pandas methods.\n",
        "\n",
        "- hint: mode returns an array (as there may be more than a single mode), therefore you will need to extract the first value"
      ]
    },
    {
      "cell_type": "code",
      "execution_count": null,
      "metadata": {
        "deletable": false,
        "editable": false,
        "nbgrader": {
          "cell_type": "code",
          "checksum": "fc5cff0eb4d508b51776da0107bf6262",
          "grade": false,
          "grade_id": "cell-0eeff7c1b14720c9",
          "locked": true,
          "schema_version": 3,
          "solution": false,
          "task": false
        },
        "id": "L6pVDGYZD6Rm"
      },
      "outputs": [],
      "source": [
        "num_journey_info = (\n",
        "    'The typical number of journeys taken each week to university ranges from {min} to {max}. '\n",
        "    'The most common number of journeys taken each week is {mode}. '\n",
        "    'However, the mean number of journeys taken each week is {mean}, '\n",
        "    'indicating that the distribtion may be negatively-skewed.'\n",
        ")"
      ]
    },
    {
      "cell_type": "code",
      "execution_count": null,
      "metadata": {
        "deletable": false,
        "nbgrader": {
          "cell_type": "code",
          "checksum": "3da54a605f13f5f717e542d2096ada34",
          "grade": false,
          "grade_id": "cell-05fd71b02127a643",
          "locked": false,
          "schema_version": 3,
          "solution": true,
          "task": false
        },
        "id": "7U9b28pPD6Rm"
      },
      "outputs": [],
      "source": [
        "def format_num_journey_info():\n",
        "    return num_journey_info.format(\n",
        "        # Provide a key=value for each format parameter.\n",
        "        # Do not hard-code numbers, call the appropriate pandas methods.\n",
        "        # YOUR CODE HERE\n",
        "        raise NotImplementedError()\n",
        "    )\n",
        "\n",
        "print(format_num_journey_info())"
      ]
    },
    {
      "cell_type": "code",
      "execution_count": null,
      "metadata": {
        "deletable": false,
        "editable": false,
        "nbgrader": {
          "cell_type": "code",
          "checksum": "e93393e7ce85071482c815461c5967ec",
          "grade": true,
          "grade_id": "cell-29924a808819ad9b",
          "locked": true,
          "points": 1,
          "schema_version": 3,
          "solution": false,
          "task": false
        },
        "id": "H3iBJKI4D6Rm"
      },
      "outputs": [],
      "source": [
        "with patch('pandas.Series.min') as mock_min:\n",
        "    format_num_journey_info()\n",
        "mock_min.assert_called_once_with()\n",
        "\n",
        "with patch('pandas.Series.max') as mock_max:\n",
        "    format_num_journey_info()\n",
        "mock_max.assert_called_once_with()\n",
        "\n",
        "with patch('pandas.Series.mode') as mock_mode:\n",
        "    format_num_journey_info()\n",
        "mock_mode.assert_called_once_with()\n",
        "\n",
        "with patch('pandas.Series.mean') as mock_mean:\n",
        "    format_num_journey_info()\n",
        "mock_mean.assert_called_once_with()\n",
        "\n",
        "assert format_num_journey_info() == 'The typical number of journeys taken each week to university ranges from 1 to 5. The most common number of journeys taken each week is 4. However, the mean number of journeys taken each week is 3.21, indicating that the distribtion may be negatively-skewed.'"
      ]
    },
    {
      "cell_type": "markdown",
      "metadata": {
        "deletable": false,
        "editable": false,
        "nbgrader": {
          "cell_type": "markdown",
          "checksum": "9e4cde1872cdadb961d129b0df6bb5b7",
          "grade": false,
          "grade_id": "cell-2df1c66fe162d8d0",
          "locked": true,
          "schema_version": 3,
          "solution": false,
          "task": false
        },
        "id": "MrnMi8UQD6Rm"
      },
      "source": [
        "Implement the function `num_journeys_skew` to return the skewness statistic of the `num_journeys` variable, rounded to two decimal places."
      ]
    },
    {
      "cell_type": "code",
      "execution_count": null,
      "metadata": {
        "deletable": false,
        "nbgrader": {
          "cell_type": "code",
          "checksum": "fc10fe00bb39f1e5da1823f507da2fd2",
          "grade": false,
          "grade_id": "cell-4a41c26a2467c180",
          "locked": false,
          "schema_version": 3,
          "solution": true,
          "task": false
        },
        "id": "LomOgfynD6Rm"
      },
      "outputs": [],
      "source": [
        "def num_journeys_skew():\n",
        "    # return ...\n",
        "    # YOUR CODE HERE\n",
        "    raise NotImplementedError()\n",
        "\n",
        "num_journeys_skew()"
      ]
    },
    {
      "cell_type": "code",
      "execution_count": null,
      "metadata": {
        "deletable": false,
        "editable": false,
        "nbgrader": {
          "cell_type": "code",
          "checksum": "51b11a183ae87b17daf95655b87dca32",
          "grade": true,
          "grade_id": "cell-837b2b6e0a7aae4b",
          "locked": true,
          "points": 1,
          "schema_version": 3,
          "solution": false,
          "task": false
        },
        "id": "c1wG9SCQD6Rm"
      },
      "outputs": [],
      "source": [
        "with patch('pandas.Series.skew') as mock_skew:\n",
        "    num_journeys_skew()\n",
        "mock_skew.assert_called_once_with()\n",
        "\n",
        "assert num_journeys_skew() == -0.24"
      ]
    },
    {
      "cell_type": "markdown",
      "metadata": {
        "deletable": false,
        "editable": false,
        "nbgrader": {
          "cell_type": "markdown",
          "checksum": "a499c66f48fae047e18286b8747e790a",
          "grade": false,
          "grade_id": "cell-1e584336af4cf8b2",
          "locked": true,
          "schema_version": 3,
          "solution": false,
          "task": false
        },
        "id": "ZAcG_eAID6Rm"
      },
      "source": [
        "Create a (vertical) bar chart of the frequency counts of `num_journeys`. As this variable is a discrete numerical variable with a small number of values we can simply count the frequecny of each value (as opposed to a continuous numerical variable where we would need to use a histogram).\n",
        "\n",
        "![number of journeys bar](img/num-journeys-bar.png)\n",
        "\n",
        "We ususally wouldn't define a function to produce a simple plot like this, but we need to here for the purpose of unit testing.\n",
        "\n",
        "- do not sort the values by frequency, you will need to call `sort_index()` on the frequency table\n",
        "- rotate the x-axis tick labes so that they are more readable\n",
        "- customise the plot using the `Axes` methods\n",
        "    - set the x-axis label to: 'number of journeys'\n",
        "    - set the y-axis label to: 'frequency'\n",
        "    - set the title to: 'Typical number of journeys taken to university each week'\n",
        "- return the `Axis` object for unit testing"
      ]
    },
    {
      "cell_type": "code",
      "execution_count": null,
      "metadata": {
        "deletable": false,
        "nbgrader": {
          "cell_type": "code",
          "checksum": "e4ef078adb24430d907870794ec1e5d7",
          "grade": false,
          "grade_id": "cell-c906e406ba7046fa",
          "locked": false,
          "schema_version": 3,
          "solution": true,
          "task": false
        },
        "id": "a9oworaVD6Rn"
      },
      "outputs": [],
      "source": [
        "def plot_num_journeys_bar():\n",
        "    # ax = ...\n",
        "    # YOUR CODE HERE\n",
        "    raise NotImplementedError()\n",
        "    # Return the Axes object for unit testing.\n",
        "    return ax\n",
        "\n",
        "num_journeys_bar_ax = plot_num_journeys_bar()\n",
        "plt.show()"
      ]
    },
    {
      "cell_type": "code",
      "execution_count": null,
      "metadata": {
        "deletable": false,
        "editable": false,
        "nbgrader": {
          "cell_type": "code",
          "checksum": "9d8178ad50b26d9a28687d5893858922",
          "grade": true,
          "grade_id": "cell-3a6facfe6ccee597",
          "locked": true,
          "points": 1,
          "schema_version": 3,
          "solution": false,
          "task": false
        },
        "id": "mfn_u3DYD6R5"
      },
      "outputs": [],
      "source": [
        "with patch('pandas.Series.value_counts') as mock_value_counts:\n",
        "    plot_num_journeys_bar()\n",
        "mock_value_counts.assert_called_once()\n",
        "\n",
        "with patch('pandas.Series.sort_index') as mock_sort_index:\n",
        "    plot_num_journeys_bar()\n",
        "mock_sort_index.assert_called_once()\n",
        "\n",
        "with patch('pandas.Series.plot.bar') as mock_bar:\n",
        "    ax = plot_num_journeys_bar()\n",
        "mock_bar.assert_called_once_with(rot=0)\n",
        "\n",
        "with patch('pandas.Series.plot.bar') as mock_bar:\n",
        "    ax = plot_num_journeys_bar()\n",
        "mock_bar.assert_called_once_with(rot=0)\n",
        "\n",
        "# Test y labels are correct.\n",
        "x_tick_text = [ticklabel.get_text() for ticklabel in num_journeys_bar_ax.xaxis.get_ticklabels()]\n",
        "assert x_tick_text == ['1', '2', '3', '4', '5']\n",
        "\n",
        "# Test axes labels.\n",
        "assert num_journeys_bar_ax.xaxis.get_label_text() == 'number of journeys'\n",
        "assert num_journeys_bar_ax.yaxis.get_label_text() == 'frequency'\n",
        "assert num_journeys_bar_ax.get_title() == 'Typical number of journeys taken to university each week'"
      ]
    },
    {
      "cell_type": "markdown",
      "metadata": {
        "deletable": false,
        "editable": false,
        "nbgrader": {
          "cell_type": "markdown",
          "checksum": "12467ce86c526f116fe71e3f275e243c",
          "grade": false,
          "grade_id": "cell-bf4403c50a350673",
          "locked": true,
          "schema_version": 3,
          "solution": false,
          "task": false
        },
        "id": "z5s0PMWGD6R6"
      },
      "source": [
        "Create a box plot of the distribution of `num_journeys`.\n",
        "\n",
        "![number of journeys box](img/num-journeys-box.png)\n",
        "\n",
        "We ususally wouldn't define a function to produce a simple plot like this, but we need to here for the purpose of unit testing.\n",
        "\n",
        "- customise the plot using the `Axes` methods\n",
        "    - set the y-axis label to: 'number of journeys'\n",
        "    - set the title to: 'Typical number of journeys taken to university each week'\n",
        "- return the `Axis` object for unit testing"
      ]
    },
    {
      "cell_type": "code",
      "execution_count": null,
      "metadata": {
        "deletable": false,
        "nbgrader": {
          "cell_type": "code",
          "checksum": "4697de9b796a0d6a81febeb7dd1146e7",
          "grade": false,
          "grade_id": "cell-0fd4d794264271e2",
          "locked": false,
          "schema_version": 3,
          "solution": true,
          "task": false
        },
        "id": "7izHfHA2D6R6"
      },
      "outputs": [],
      "source": [
        "def plot_num_journeys_box():\n",
        "    # ax = ...\n",
        "    # YOUR CODE HERE\n",
        "    raise NotImplementedError()\n",
        "    # Return the Axes object for unit testing.\n",
        "    return ax\n",
        "\n",
        "num_journeys_box_ax = plot_num_journeys_box()\n",
        "plt.show()"
      ]
    },
    {
      "cell_type": "code",
      "execution_count": null,
      "metadata": {
        "deletable": false,
        "editable": false,
        "nbgrader": {
          "cell_type": "code",
          "checksum": "00f29fe034074db5f7a41272b9cf7595",
          "grade": true,
          "grade_id": "cell-0be3679d75d50599",
          "locked": true,
          "points": 1,
          "schema_version": 3,
          "solution": false,
          "task": false
        },
        "id": "YX3GLDH0D6R6"
      },
      "outputs": [],
      "source": [
        "with patch('pandas.Series.plot.box') as mock_box:\n",
        "    ax = plot_num_journeys_box()\n",
        "mock_box.assert_called_once_with()\n",
        "\n",
        "# Test axes labels.\n",
        "assert num_journeys_box_ax.yaxis.get_label_text() == 'number of journeys'\n",
        "assert num_journeys_box_ax.get_title() == 'Typical number of journeys taken to university each week'"
      ]
    },
    {
      "cell_type": "markdown",
      "metadata": {
        "deletable": false,
        "editable": false,
        "nbgrader": {
          "cell_type": "markdown",
          "checksum": "d38c200381e7a793909ad9b8b8ce5383",
          "grade": false,
          "grade_id": "cell-86aa6181606e059a",
          "locked": true,
          "schema_version": 3,
          "solution": false,
          "task": false
        },
        "id": "WPWhpxJ5D6R7"
      },
      "source": [
        "## Journey time"
      ]
    },
    {
      "cell_type": "markdown",
      "metadata": {
        "deletable": false,
        "editable": false,
        "nbgrader": {
          "cell_type": "markdown",
          "checksum": "98bba061c04bba98b8fcd3e4afc43159",
          "grade": false,
          "grade_id": "cell-fe1503a0a5e4b514",
          "locked": true,
          "schema_version": 3,
          "solution": false,
          "task": false
        },
        "id": "o741pEx1D6R7"
      },
      "source": [
        "Create a histogram of the distribution of `journey_time`.\n",
        "\n",
        "![journey time hist](img/journey-time-hist.png)\n",
        "\n",
        "We ususally wouldn't define a function to produce a simple plot like this, but we need to here for the purpose of unit testing.\n",
        "\n",
        "- set the histogram bins to 5 minute intervals (from 5 to 60)\n",
        "- customise the plot using the `Axes` methods\n",
        "    - set the x-axis label to: 'journey time (minutes)'\n",
        "    - set the y-axis label to: 'frequency'\n",
        "    - set the title to: 'Distribution of journey time to university each week'\n",
        "- return the `Axis` object for unit testing"
      ]
    },
    {
      "cell_type": "code",
      "execution_count": null,
      "metadata": {
        "deletable": false,
        "nbgrader": {
          "cell_type": "code",
          "checksum": "2087a54eea971e1b985d57449a10b5ea",
          "grade": false,
          "grade_id": "cell-4aa1de0303b0133b",
          "locked": false,
          "schema_version": 3,
          "solution": true,
          "task": false
        },
        "id": "Z8MC0mBbD6R7"
      },
      "outputs": [],
      "source": [
        "def plot_journey_time_hist():\n",
        "    # ax = ...\n",
        "    # YOUR CODE HERE\n",
        "    raise NotImplementedError()\n",
        "    # Return the Axes object for unit testing.\n",
        "    return ax\n",
        "\n",
        "journey_time_hist_ax = plot_journey_time_hist()\n",
        "plt.show()"
      ]
    },
    {
      "cell_type": "code",
      "execution_count": null,
      "metadata": {
        "deletable": false,
        "editable": false,
        "nbgrader": {
          "cell_type": "code",
          "checksum": "0aba91c7f15abc15ba08eebd90802245",
          "grade": true,
          "grade_id": "cell-9a26bf9fbe27b92f",
          "locked": true,
          "points": 1,
          "schema_version": 3,
          "solution": false,
          "task": false
        },
        "id": "7W4ZK4ctD6R7"
      },
      "outputs": [],
      "source": [
        "with patch('pandas.Series.plot.hist') as mock_hist:\n",
        "    ax = plot_journey_time_hist()\n",
        "mock_hist.assert_called()\n",
        "\n",
        "def test_bins(bins):\n",
        "    _bins = [5, 10, 15, 20, 25, 30, 35, 40, 45, 50, 55, 60]\n",
        "    if type(bins) is np.ndarray:\n",
        "        if len(bins) == len(_bins):\n",
        "            return (bins == _bins).all()\n",
        "        else:\n",
        "            return False\n",
        "    else:\n",
        "        return bins == _bins\n",
        "\n",
        "assert test_bins(mock_hist.call_args_list[0][1]['bins'])\n",
        "\n",
        "# Test axes labels.\n",
        "assert journey_time_hist_ax.yaxis.get_label_text() == 'frequency'\n",
        "assert journey_time_hist_ax.get_title() == 'Distribution of journey time to university each week'"
      ]
    }
  ],
  "metadata": {
    "kernelspec": {
      "display_name": "Python 3 (ipykernel)",
      "language": "python",
      "name": "python3"
    },
    "language_info": {
      "codemirror_mode": {
        "name": "ipython",
        "version": 3
      },
      "file_extension": ".py",
      "mimetype": "text/x-python",
      "name": "python",
      "nbconvert_exporter": "python",
      "pygments_lexer": "ipython3",
      "version": "3.9.2"
    },
    "colab": {
      "provenance": [],
      "include_colab_link": true
    }
  },
  "nbformat": 4,
  "nbformat_minor": 0
}